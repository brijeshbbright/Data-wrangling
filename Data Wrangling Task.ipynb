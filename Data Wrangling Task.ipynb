{
 "cells": [
  {
   "cell_type": "markdown",
   "id": "703f338a",
   "metadata": {},
   "source": [
    "# Data Wrangling Exercise"
   ]
  },
  {
   "cell_type": "markdown",
   "id": "b52ac14c",
   "metadata": {},
   "source": [
    "Question 1"
   ]
  },
  {
   "cell_type": "code",
   "execution_count": 49,
   "id": "dab95aed",
   "metadata": {},
   "outputs": [],
   "source": [
    "import pandas as pd"
   ]
  },
  {
   "cell_type": "code",
   "execution_count": 50,
   "id": "841f5d10",
   "metadata": {},
   "outputs": [],
   "source": [
    "crime_data = pd.read_csv(r\"C:\\Users\\BRIGHT\\OneDrive\\Desktop\\ds\\archive (9)\\crime.csv\", encoding='latin-1')"
   ]
  },
  {
   "cell_type": "code",
   "execution_count": 51,
   "id": "678c08a1",
   "metadata": {},
   "outputs": [],
   "source": [
    "crime_data['OCCURRED_ON_DATE'] = pd.to_datetime(crime_data['OCCURRED_ON_DATE'])"
   ]
  },
  {
   "cell_type": "code",
   "execution_count": 52,
   "id": "5fb6757e",
   "metadata": {},
   "outputs": [],
   "source": [
    "def get_phase_of_day(hour):\n",
    "    if 6 <= hour <= 11:\n",
    "        return 'Morning'\n",
    "    elif 11 < hour <= 17:\n",
    "        return 'Noon'\n",
    "    elif 17 < hour <= 20:\n",
    "        return 'Evening'\n",
    "\n",
    "    else:\n",
    "        return 'Night'"
   ]
  },
  {
   "cell_type": "code",
   "execution_count": 53,
   "id": "13787bb2",
   "metadata": {},
   "outputs": [],
   "source": [
    "crime_data['Phase_of_Day'] = crime_data['OCCURRED_ON_DATE'].dt.hour.apply(get_phase_of_day)"
   ]
  },
  {
   "cell_type": "code",
   "execution_count": 54,
   "id": "d2260e89",
   "metadata": {},
   "outputs": [],
   "source": [
    "crime_data['Month'] = crime_data['OCCURRED_ON_DATE'].dt.month_name()"
   ]
  },
  {
   "cell_type": "code",
   "execution_count": 55,
   "id": "ee5a7bac",
   "metadata": {},
   "outputs": [],
   "source": [
    "filtered_data = crime_data[crime_data['OFFENSE_CODE_GROUP'].isin(['Auto Theft', 'Towed'])]"
   ]
  },
  {
   "cell_type": "code",
   "execution_count": 56,
   "id": "8484fc70",
   "metadata": {},
   "outputs": [],
   "source": [
    "result = filtered_data.groupby(['Phase_of_Day', 'Month']).size().unstack(fill_value=0)"
   ]
  },
  {
   "cell_type": "markdown",
   "id": "f43208f5",
   "metadata": {},
   "source": [
    "Question 2"
   ]
  },
  {
   "cell_type": "code",
   "execution_count": 57,
   "id": "0e0cb764",
   "metadata": {},
   "outputs": [],
   "source": [
    "offense_codes = pd.read_csv(r\"C:\\Users\\BRIGHT\\OneDrive\\Desktop\\ds\\archive (9)\\offense_codes.csv\", encoding='latin-1')"
   ]
  },
  {
   "cell_type": "code",
   "execution_count": 58,
   "id": "e0621375",
   "metadata": {},
   "outputs": [],
   "source": [
    "crime_data = pd.merge(crime_data, offense_codes, left_on='OFFENSE_CODE', right_on='CODE', how='left')"
   ]
  },
  {
   "cell_type": "code",
   "execution_count": 59,
   "id": "c709e17b",
   "metadata": {},
   "outputs": [],
   "source": [
    "max_offense_per_district = crime_data.groupby('DISTRICT')['NAME'].agg(lambda x: x.value_counts().index[0])"
   ]
  },
  {
   "cell_type": "markdown",
   "id": "50ec616c",
   "metadata": {},
   "source": [
    "Question 3"
   ]
  },
  {
   "cell_type": "code",
   "execution_count": 60,
   "id": "0a8a701c",
   "metadata": {},
   "outputs": [],
   "source": [
    "crime_data.sort_values(['DISTRICT', 'OCCURRED_ON_DATE'], inplace=True)"
   ]
  },
  {
   "cell_type": "code",
   "execution_count": 61,
   "id": "5c9b164b",
   "metadata": {},
   "outputs": [],
   "source": [
    "crime_data['Date_of_Last_Incident'] = crime_data.groupby('DISTRICT')['OCCURRED_ON_DATE'].shift(-1)"
   ]
  },
  {
   "cell_type": "markdown",
   "id": "2b9a69d3",
   "metadata": {},
   "source": [
    "Question 4"
   ]
  },
  {
   "cell_type": "code",
   "execution_count": 62,
   "id": "26993788",
   "metadata": {},
   "outputs": [],
   "source": [
    "district_street_max = crime_data.groupby(['DISTRICT', 'STREET']).size().reset_index(name='Incident_Count')"
   ]
  },
  {
   "cell_type": "code",
   "execution_count": 63,
   "id": "7fcef6a4",
   "metadata": {},
   "outputs": [],
   "source": [
    "district_max_street = district_street_max.loc[district_street_max.groupby('DISTRICT')['Incident_Count'].idxmax()]"
   ]
  },
  {
   "cell_type": "markdown",
   "id": "631d3296",
   "metadata": {},
   "source": [
    "Question 5"
   ]
  },
  {
   "cell_type": "code",
   "execution_count": 64,
   "id": "9a5455ae",
   "metadata": {},
   "outputs": [],
   "source": [
    "crime_data.sort_values(['STREET', 'OCCURRED_ON_DATE'], ascending=[True, False], inplace=True)"
   ]
  },
  {
   "cell_type": "code",
   "execution_count": 65,
   "id": "3345fe39",
   "metadata": {},
   "outputs": [],
   "source": [
    "recent_incidents_per_street = crime_data.groupby('STREET').head(10)"
   ]
  },
  {
   "cell_type": "markdown",
   "id": "d52d5da0",
   "metadata": {},
   "source": [
    "# RESULT"
   ]
  },
  {
   "cell_type": "markdown",
   "id": "83174749",
   "metadata": {},
   "source": [
    "Question 1"
   ]
  },
  {
   "cell_type": "code",
   "execution_count": 66,
   "id": "7788a78b",
   "metadata": {},
   "outputs": [
    {
     "name": "stdout",
     "output_type": "stream",
     "text": [
      "Month         April  August  December  February  January  July  June  March  \\\n",
      "Phase_of_Day                                                                  \n",
      "Evening         144     204       131       142      140   206   164    125   \n",
      "Morning         508     916       511       424      429   738   755    494   \n",
      "Night           263     428       264       243      229   377   362    268   \n",
      "Noon            247     390       291       237      254   379   354    264   \n",
      "\n",
      "Month         May  November  October  September  \n",
      "Phase_of_Day                                     \n",
      "Evening       141       166      142        162  \n",
      "Morning       652       481      570        635  \n",
      "Night         302       271      297        288  \n",
      "Noon          318       245      268        319  \n"
     ]
    }
   ],
   "source": [
    "print(result)"
   ]
  },
  {
   "cell_type": "markdown",
   "id": "2b692bdc",
   "metadata": {},
   "source": [
    "Question 2"
   ]
  },
  {
   "cell_type": "code",
   "execution_count": 67,
   "id": "619f429f",
   "metadata": {},
   "outputs": [
    {
     "name": "stdout",
     "output_type": "stream",
     "text": [
      "DISTRICT\n",
      "A1                   PROPERTY - LOST\n",
      "A15               INVESTIGATE PERSON\n",
      "A7     SICK/INJURED/MEDICAL - PERSON\n",
      "B2                    VERBAL DISPUTE\n",
      "B3                    VERBAL DISPUTE\n",
      "C11               INVESTIGATE PERSON\n",
      "C6     SICK/INJURED/MEDICAL - PERSON\n",
      "D14              TOWED MOTOR VEHICLE\n",
      "D4                INVESTIGATE PERSON\n",
      "E13    SICK/INJURED/MEDICAL - PERSON\n",
      "E18    SICK/INJURED/MEDICAL - PERSON\n",
      "E5     SICK/INJURED/MEDICAL - PERSON\n",
      "Name: NAME, dtype: object\n"
     ]
    }
   ],
   "source": [
    "print(max_offense_per_district)"
   ]
  },
  {
   "cell_type": "markdown",
   "id": "d9414b96",
   "metadata": {},
   "source": [
    "Question 3"
   ]
  },
  {
   "cell_type": "code",
   "execution_count": 68,
   "id": "be51e243",
   "metadata": {},
   "outputs": [
    {
     "name": "stdout",
     "output_type": "stream",
     "text": [
      "       INCIDENT_NUMBER  OFFENSE_CODE  OFFENSE_CODE_GROUP OFFENSE_DESCRIPTION  \\\n",
      "464321      I162010580           301             Robbery    ROBBERY - STREET   \n",
      "464322      I162010580           301             Robbery    ROBBERY - STREET   \n",
      "469053      I162007775          3115  Investigate Person  INVESTIGATE PERSON   \n",
      "469054      I162007775          3115  Investigate Person  INVESTIGATE PERSON   \n",
      "476915      I162003081          1402           Vandalism           VANDALISM   \n",
      "\n",
      "       DISTRICT REPORTING_AREA SHOOTING    OCCURRED_ON_DATE  YEAR  MONTH  ...  \\\n",
      "464321       D4            171      NaN 2016-02-09 02:34:00  2016      2  ...   \n",
      "464322       D4            171      NaN 2016-02-09 02:34:00  2016      2  ...   \n",
      "469053       D4            171      NaN 2016-01-29 14:23:00  2016      1  ...   \n",
      "469054       D4            171      NaN 2016-01-29 14:23:00  2016      1  ...   \n",
      "476915       D4            171      NaN 2016-01-12 08:03:00  2016      1  ...   \n",
      "\n",
      "          UCR_PART       STREET       Lat      Long  \\\n",
      "464321    Part One   ALBANY ST   42.33361 -71.07337   \n",
      "464322    Part One   ALBANY ST   42.33361 -71.07337   \n",
      "469053  Part Three   ALBANY ST   42.33361 -71.07337   \n",
      "469054  Part Three   ALBANY ST   42.33361 -71.07337   \n",
      "476915    Part Two   ALBANY ST   42.33361 -71.07337   \n",
      "\n",
      "                           Location  Phase_of_Day     Month  CODE  \\\n",
      "464321  (42.33361000, -71.07337000)         Night  February   301   \n",
      "464322  (42.33361000, -71.07337000)         Night  February   301   \n",
      "469053  (42.33361000, -71.07337000)          Noon   January  3115   \n",
      "469054  (42.33361000, -71.07337000)          Noon   January  3115   \n",
      "476915  (42.33361000, -71.07337000)       Morning   January  1402   \n",
      "\n",
      "                            NAME  Date_of_Last_Incident  \n",
      "464321          ROBBERY - STREET    2016-02-09 02:34:00  \n",
      "464322  ROBBERY - FIREARM - BANK    2016-02-09 08:16:00  \n",
      "469053        INVESTIGATE PERSON    2016-01-29 14:23:00  \n",
      "469054        INVESTIGATE PERSON    2016-01-29 14:26:00  \n",
      "476915                 VANDALISM    2016-01-12 08:03:00  \n",
      "\n",
      "[5 rows x 22 columns]\n"
     ]
    }
   ],
   "source": [
    "print(crime_data.head())"
   ]
  },
  {
   "cell_type": "markdown",
   "id": "3249baef",
   "metadata": {},
   "source": [
    "Question 4"
   ]
  },
  {
   "cell_type": "code",
   "execution_count": 69,
   "id": "cd335fb2",
   "metadata": {},
   "outputs": [
    {
     "name": "stdout",
     "output_type": "stream",
     "text": [
      "     DISTRICT             STREET  Incident_Count\n",
      "399        A1      WASHINGTON ST            5380\n",
      "438       A15     BUNKER HILL ST             868\n",
      "635        A7          BORDER ST            2245\n",
      "871        B2      BLUE HILL AVE            4884\n",
      "1518       B3      BLUE HILL AVE            8933\n",
      "2087      C11     DORCHESTER AVE            7793\n",
      "2796       C6  MASSACHUSETTS AVE            3215\n",
      "3033      D14   COMMONWEALTH AVE            4960\n",
      "3395       D4        BOYLSTON ST            9665\n",
      "3785      E13          CENTRE ST            4042\n",
      "4274      E18      HYDE PARK AVE            5231\n",
      "5009       E5      WASHINGTON ST            2865\n"
     ]
    }
   ],
   "source": [
    "print(district_max_street)"
   ]
  },
  {
   "cell_type": "markdown",
   "id": "7ecd024e",
   "metadata": {},
   "source": [
    "Question 5"
   ]
  },
  {
   "cell_type": "code",
   "execution_count": 28,
   "id": "6c9161c7",
   "metadata": {},
   "outputs": [
    {
     "name": "stdout",
     "output_type": "stream",
     "text": [
      "       INCIDENT_NUMBER  OFFENSE_CODE               OFFENSE_CODE_GROUP  \\\n",
      "464321      I162010580           301                          Robbery   \n",
      "464322      I162010580           301                          Robbery   \n",
      "469053      I162007775          3115               Investigate Person   \n",
      "469054      I162007775          3115               Investigate Person   \n",
      "476915      I162003081          1402                        Vandalism   \n",
      "...                ...           ...                              ...   \n",
      "17757       I182060211          3115               Investigate Person   \n",
      "17758       I182060211          3115               Investigate Person   \n",
      "23970       I182056556          2646                 Liquor Violation   \n",
      "96723       I182014036          2900                            Other   \n",
      "417714      I162038409          3831  Motor Vehicle Accident Response   \n",
      "\n",
      "                          OFFENSE_DESCRIPTION DISTRICT REPORTING_AREA  \\\n",
      "464321                       ROBBERY - STREET       D4            171   \n",
      "464322                       ROBBERY - STREET       D4            171   \n",
      "469053                     INVESTIGATE PERSON       D4            171   \n",
      "469054                     INVESTIGATE PERSON       D4            171   \n",
      "476915                              VANDALISM       D4            171   \n",
      "...                                       ...      ...            ...   \n",
      "17757                      INVESTIGATE PERSON       B2            280   \n",
      "17758                      INVESTIGATE PERSON       B2            280   \n",
      "23970             LIQUOR - DRINKING IN PUBLIC       B2            280   \n",
      "96723     VAL - VIOLATION OF AUTO LAW - OTHER       E5            673   \n",
      "417714  M/V - LEAVING SCENE - PROPERTY DAMAGE       E5            673   \n",
      "\n",
      "       SHOOTING    OCCURRED_ON_DATE  YEAR  MONTH  ...    UCR_PART  \\\n",
      "464321      NaN 2016-02-09 02:34:00  2016      2  ...    Part One   \n",
      "464322      NaN 2016-02-09 02:34:00  2016      2  ...    Part One   \n",
      "469053      NaN 2016-01-29 14:23:00  2016      1  ...  Part Three   \n",
      "469054      NaN 2016-01-29 14:23:00  2016      1  ...  Part Three   \n",
      "476915      NaN 2016-01-12 08:03:00  2016      1  ...    Part Two   \n",
      "...         ...                 ...   ...    ...  ...         ...   \n",
      "17757       NaN 2018-07-27 14:50:00  2018      7  ...  Part Three   \n",
      "17758       NaN 2018-07-27 14:50:00  2018      7  ...  Part Three   \n",
      "23970       NaN 2018-07-18 15:05:00  2018      7  ...    Part Two   \n",
      "96723       NaN 2018-02-22 13:42:00  2018      2  ...    Part Two   \n",
      "417714      NaN 2016-05-16 15:45:00  2016      5  ...  Part Three   \n",
      "\n",
      "             STREET        Lat       Long                     Location  \\\n",
      "464321   ALBANY ST   42.333610 -71.073370  (42.33361000, -71.07337000)   \n",
      "464322   ALBANY ST   42.333610 -71.073370  (42.33361000, -71.07337000)   \n",
      "469053   ALBANY ST   42.333610 -71.073370  (42.33361000, -71.07337000)   \n",
      "469054   ALBANY ST   42.333610 -71.073370  (42.33361000, -71.07337000)   \n",
      "476915   ALBANY ST   42.333610 -71.073370  (42.33361000, -71.07337000)   \n",
      "...             ...        ...        ...                          ...   \n",
      "17757    ZEIGLER ST  42.329506 -71.083980  (42.32950632, -71.08398018)   \n",
      "17758    ZEIGLER ST  42.329506 -71.083980  (42.32950632, -71.08398018)   \n",
      "23970    ZEIGLER ST  42.329506 -71.083980  (42.32950632, -71.08398018)   \n",
      "96723     ZELLER ST  42.291866 -71.136355  (42.29186602, -71.13635487)   \n",
      "417714    ZELLER ST  42.291866 -71.136355  (42.29186602, -71.13635487)   \n",
      "\n",
      "        Phase_of_Day     Month  CODE                                   NAME  \\\n",
      "464321         Night  February   301                       ROBBERY - STREET   \n",
      "464322         Night  February   301               ROBBERY - FIREARM - BANK   \n",
      "469053          Noon   January  3115                     INVESTIGATE PERSON   \n",
      "469054          Noon   January  3115                     INVESTIGATE PERSON   \n",
      "476915       Morning   January  1402                              VANDALISM   \n",
      "...              ...       ...   ...                                    ...   \n",
      "17757           Noon      July  3115                     INVESTIGATE PERSON   \n",
      "17758           Noon      July  3115                     INVESTIGATE PERSON   \n",
      "23970           Noon      July  2646            LIQUOR - DRINKING IN PUBLIC   \n",
      "96723           Noon  February  2900    VAL - VIOLATION OF AUTO LAW - OTHER   \n",
      "417714          Noon       May  3831  M/V - LEAVING SCENE - PROPERTY DAMAGE   \n",
      "\n",
      "        Date_of_Last_Incident  \n",
      "464321    2016-02-09 02:34:00  \n",
      "464322    2016-02-09 08:16:00  \n",
      "469053    2016-01-29 14:23:00  \n",
      "469054    2016-01-29 14:26:00  \n",
      "476915    2016-01-12 08:03:00  \n",
      "...                       ...  \n",
      "17757     2018-07-27 14:50:00  \n",
      "17758     2018-07-27 14:58:00  \n",
      "23970     2018-07-18 15:05:00  \n",
      "96723     2018-02-23 11:52:00  \n",
      "417714    2016-05-16 15:53:00  \n",
      "\n",
      "[35415 rows x 22 columns]\n"
     ]
    }
   ],
   "source": [
    "print(recent_incidents_per_street)"
   ]
  }
 ],
 "metadata": {
  "kernelspec": {
   "display_name": "Python 3 (ipykernel)",
   "language": "python",
   "name": "python3"
  },
  "language_info": {
   "codemirror_mode": {
    "name": "ipython",
    "version": 3
   },
   "file_extension": ".py",
   "mimetype": "text/x-python",
   "name": "python",
   "nbconvert_exporter": "python",
   "pygments_lexer": "ipython3",
   "version": "3.9.13"
  }
 },
 "nbformat": 4,
 "nbformat_minor": 5
}
